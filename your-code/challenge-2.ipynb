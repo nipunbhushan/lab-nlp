{
 "cells": [
  {
   "cell_type": "markdown",
   "metadata": {},
   "source": [
    "# Challenge 2: Sentiment Analysis\n",
    "\n",
    "In this challenge we will learn sentiment analysis and practice performing sentiment analysis on Twitter tweets. \n",
    "\n",
    "## Introduction\n",
    "\n",
    "Sentiment analysis is to *systematically identify, extract, quantify, and study affective states and subjective information* based on texts ([reference](https://en.wikipedia.org/wiki/Sentiment_analysis)). In simple words, it's to understand whether a person is happy or unhappy in producing the piece of text. Why we (or rather, companies) care about sentiment in texts? It's because by understanding the sentiments in texts, we will be able to know if our customers are happy or unhappy about our products and services. If they are unhappy, the subsequent action is to figure out what have caused the unhappiness and make improvements.\n",
    "\n",
    "Basic sentiment analysis only understands the *positive* or *negative* (sometimes *neutral* too) polarities of the sentiment. More advanced sentiment analysis will also consider dimensions such as agreement, subjectivity, confidence, irony, and so on. In this challenge we will conduct the basic positive vs negative sentiment analysis based on real Twitter tweets.\n",
    "\n",
    "NLTK comes with a [sentiment analysis package](https://www.nltk.org/api/nltk.sentiment.html). This package is great for dummies to perform sentiment analysis because it requires only the textual data to make predictions. For example:\n",
    "\n",
    "```python\n",
    ">>> from nltk.sentiment.vader import SentimentIntensityAnalyzer\n",
    ">>> txt = \"Ironhack is a Global Tech School ranked num 2 worldwide.  ",
    " ",
    "Our mission is to help people transform their careers and join a thriving community of tech professionals that love what they do.\"\n",
    ">>> analyzer = SentimentIntensityAnalyzer()\n",
    ">>> analyzer.polarity_scores(txt)\n",
    "{'neg': 0.0, 'neu': 0.741, 'pos': 0.259, 'compound': 0.8442}\n",
    "```\n",
    "\n",
    "In this challenge, however, you will not use NLTK's sentiment analysis package because in your Machine Learning training in the past 2 weeks you have learned how to make predictions more accurate than that. The [tweets data](https://www.kaggle.com/kazanova/sentiment140) we will be using today are already coded for the positive/negative sentiment. You will be able to use the Naïve Bayes classifier you learned in the lesson to predict the sentiment of tweets based on the labels."
   ]
  },
  {
   "cell_type": "markdown",
   "metadata": {},
   "source": [
    "## Function Definitions"
   ]
  },
  {
   "cell_type": "code",
   "execution_count": 69,
   "metadata": {},
   "outputs": [],
   "source": [
    "import numpy as np\n",
    "import pandas as pd\n",
    "import re\n",
    "import nltk\n",
    "from nltk.tokenize import word_tokenize\n",
    "from nltk.stem import PorterStemmer\n",
    "from nltk.stem import WordNetLemmatizer\n",
    "from nltk.corpus import stopwords\n",
    "from nltk.probability import FreqDist"
   ]
  },
  {
   "cell_type": "code",
   "execution_count": 16,
   "metadata": {},
   "outputs": [],
   "source": [
    "def clean_up(s):\n",
    "    href_pattern='\\w*http[s]?://\\w*.com\\w*'\n",
    "    matched_list=re.findall(href_pattern, s)\n",
    "    for link_pattern in matched_list:\n",
    "        s=s.replace(link_pattern,'')\n",
    "    s=s.lower()\n",
    "    pattern='[A-Za-z]+'\n",
    "    matched_list=re.findall(pattern, s)\n",
    "    return ' '.join(matched_list)    "
   ]
  },
  {
   "cell_type": "code",
   "execution_count": 10,
   "metadata": {},
   "outputs": [],
   "source": [
    "def tokenize(s):\n",
    "    return [word for word in word_tokenize(s) if word.isalnum()]"
   ]
  },
  {
   "cell_type": "code",
   "execution_count": 11,
   "metadata": {},
   "outputs": [],
   "source": [
    "def stem_and_lemmatize(l):\n",
    "    ps = PorterStemmer()\n",
    "    stemmed = [ps.stem(w) for w in l]\n",
    "    lemmatizer = WordNetLemmatizer() \n",
    "    return [lemmatizer.lemmatize(word) for word in stemmed]"
   ]
  },
  {
   "cell_type": "code",
   "execution_count": 12,
   "metadata": {},
   "outputs": [],
   "source": [
    "def remove_stopwords(l):\n",
    "    return [word for word in l if not word in stopwords.words('english')]"
   ]
  },
  {
   "cell_type": "code",
   "execution_count": 14,
   "metadata": {},
   "outputs": [],
   "source": [
    "def prepare_data(s):\n",
    "    return remove_stopwords(stem_and_lemmatize(tokenize(clean_up(s))))"
   ]
  },
  {
   "cell_type": "markdown",
   "metadata": {},
   "source": [
    "## Conducting Sentiment Analysis\n",
    "\n",
    "### Loading and Exploring Data\n",
    "\n",
    "The dataset we'll be using today is located on Kaggle (https://www.kaggle.com/kazanova/sentiment140). Once you have downloaded and imported the dataset, it you will need to define the columns names: df.columns = ['target','id','date','flag','user','text']\n",
    "\n",
    "*Notes:* \n",
    "\n",
    "* The dataset is huuuuge (1.6m tweets). When you develop your data analysis codes, you can sample a subset of the data (e.g. 20k records) so that you will save a lot of time when you test your codes."
   ]
  },
  {
   "cell_type": "code",
   "execution_count": 66,
   "metadata": {},
   "outputs": [
    {
     "name": "stdout",
     "output_type": "stream",
     "text": [
      "Before sampling shape:\n"
     ]
    },
    {
     "data": {
      "text/plain": [
       "(1600000, 6)"
      ]
     },
     "metadata": {},
     "output_type": "display_data"
    },
    {
     "name": "stdout",
     "output_type": "stream",
     "text": [
      "After sampling shape:\n"
     ]
    },
    {
     "data": {
      "text/plain": [
       "(20000, 6)"
      ]
     },
     "metadata": {},
     "output_type": "display_data"
    },
    {
     "data": {
      "text/html": [
       "<div>\n",
       "<style scoped>\n",
       "    .dataframe tbody tr th:only-of-type {\n",
       "        vertical-align: middle;\n",
       "    }\n",
       "\n",
       "    .dataframe tbody tr th {\n",
       "        vertical-align: top;\n",
       "    }\n",
       "\n",
       "    .dataframe thead th {\n",
       "        text-align: right;\n",
       "    }\n",
       "</style>\n",
       "<table border=\"1\" class=\"dataframe\">\n",
       "  <thead>\n",
       "    <tr style=\"text-align: right;\">\n",
       "      <th></th>\n",
       "      <th>target</th>\n",
       "      <th>id</th>\n",
       "      <th>date</th>\n",
       "      <th>flag</th>\n",
       "      <th>user</th>\n",
       "      <th>text</th>\n",
       "    </tr>\n",
       "  </thead>\n",
       "  <tbody>\n",
       "    <tr>\n",
       "      <th>1562891</th>\n",
       "      <td>4</td>\n",
       "      <td>2186930923</td>\n",
       "      <td>Mon Jun 15 19:32:38 PDT 2009</td>\n",
       "      <td>NO_QUERY</td>\n",
       "      <td>Mothermoonpads</td>\n",
       "      <td>@ashenflower Well, that depends on what you're...</td>\n",
       "    </tr>\n",
       "    <tr>\n",
       "      <th>1193128</th>\n",
       "      <td>4</td>\n",
       "      <td>1984188146</td>\n",
       "      <td>Sun May 31 14:36:47 PDT 2009</td>\n",
       "      <td>NO_QUERY</td>\n",
       "      <td>sgosztyl</td>\n",
       "      <td>Mass on the grass!</td>\n",
       "    </tr>\n",
       "    <tr>\n",
       "      <th>805686</th>\n",
       "      <td>4</td>\n",
       "      <td>1468699279</td>\n",
       "      <td>Tue Apr 07 03:14:16 PDT 2009</td>\n",
       "      <td>NO_QUERY</td>\n",
       "      <td>jadi</td>\n",
       "      <td>Helping a friend on a IDP system and learning ...</td>\n",
       "    </tr>\n",
       "    <tr>\n",
       "      <th>286713</th>\n",
       "      <td>0</td>\n",
       "      <td>1993990769</td>\n",
       "      <td>Mon Jun 01 11:14:30 PDT 2009</td>\n",
       "      <td>NO_QUERY</td>\n",
       "      <td>Sellyx</td>\n",
       "      <td>@taylorswift13 @selenagomez @ddlovato Please p...</td>\n",
       "    </tr>\n",
       "    <tr>\n",
       "      <th>777573</th>\n",
       "      <td>0</td>\n",
       "      <td>2322454015</td>\n",
       "      <td>Wed Jun 24 22:38:45 PDT 2009</td>\n",
       "      <td>NO_QUERY</td>\n",
       "      <td>NerdiGirl</td>\n",
       "      <td>Just notified about my dog being in  violation...</td>\n",
       "    </tr>\n",
       "  </tbody>\n",
       "</table>\n",
       "</div>"
      ],
      "text/plain": [
       "         target          id                          date      flag  \\\n",
       "1562891       4  2186930923  Mon Jun 15 19:32:38 PDT 2009  NO_QUERY   \n",
       "1193128       4  1984188146  Sun May 31 14:36:47 PDT 2009  NO_QUERY   \n",
       "805686        4  1468699279  Tue Apr 07 03:14:16 PDT 2009  NO_QUERY   \n",
       "286713        0  1993990769  Mon Jun 01 11:14:30 PDT 2009  NO_QUERY   \n",
       "777573        0  2322454015  Wed Jun 24 22:38:45 PDT 2009  NO_QUERY   \n",
       "\n",
       "                   user                                               text  \n",
       "1562891  Mothermoonpads  @ashenflower Well, that depends on what you're...  \n",
       "1193128        sgosztyl                                Mass on the grass!   \n",
       "805686             jadi  Helping a friend on a IDP system and learning ...  \n",
       "286713           Sellyx  @taylorswift13 @selenagomez @ddlovato Please p...  \n",
       "777573        NerdiGirl  Just notified about my dog being in  violation...  "
      ]
     },
     "execution_count": 66,
     "metadata": {},
     "output_type": "execute_result"
    }
   ],
   "source": [
    "import pandas as pd\n",
    "df_tweets=pd.read_csv(\"training.1600000.processed.noemoticon.csv\",names=['target','id','date','flag','user','text'],encoding_errors='ignore')\n",
    "print(\"Before sampling shape:\")\n",
    "display(df_tweets.shape)\n",
    "df_tweets=df_tweets.sample(frac=0.0125)\n",
    "print(\"After sampling shape:\")\n",
    "display(df_tweets.shape)\n",
    "df_tweets.head()"
   ]
  },
  {
   "cell_type": "markdown",
   "metadata": {},
   "source": [
    "### Prepare Textual Data for Sentiment Analysis\n",
    "\n",
    "Now, apply the functions you have written in Challenge 1 to your whole data set. These functions include:\n",
    "\n",
    "* `clean_up()`\n",
    "\n",
    "* `tokenize()`\n",
    "\n",
    "* `stem_and_lemmatize()`\n",
    "\n",
    "* `remove_stopwords()`\n",
    "\n",
    "Create a new column called `text_processed` in the dataframe to contain the processed data. At the end, your `text_processed` column should contain lists of word tokens that are cleaned up. Your data should look like below:\n",
    "\n",
    "![Processed Data](data-cleaning-results.png)"
   ]
  },
  {
   "cell_type": "code",
   "execution_count": 71,
   "metadata": {},
   "outputs": [],
   "source": [
    "df_tweets['text_processed']=df_tweets['text'].apply(prepare_data)"
   ]
  },
  {
   "cell_type": "code",
   "execution_count": 72,
   "metadata": {},
   "outputs": [
    {
     "data": {
      "text/html": [
       "<div>\n",
       "<style scoped>\n",
       "    .dataframe tbody tr th:only-of-type {\n",
       "        vertical-align: middle;\n",
       "    }\n",
       "\n",
       "    .dataframe tbody tr th {\n",
       "        vertical-align: top;\n",
       "    }\n",
       "\n",
       "    .dataframe thead th {\n",
       "        text-align: right;\n",
       "    }\n",
       "</style>\n",
       "<table border=\"1\" class=\"dataframe\">\n",
       "  <thead>\n",
       "    <tr style=\"text-align: right;\">\n",
       "      <th></th>\n",
       "      <th>target</th>\n",
       "      <th>id</th>\n",
       "      <th>date</th>\n",
       "      <th>flag</th>\n",
       "      <th>user</th>\n",
       "      <th>text</th>\n",
       "      <th>is_positive</th>\n",
       "      <th>text_processed</th>\n",
       "    </tr>\n",
       "  </thead>\n",
       "  <tbody>\n",
       "    <tr>\n",
       "      <th>1562891</th>\n",
       "      <td>4</td>\n",
       "      <td>2186930923</td>\n",
       "      <td>Mon Jun 15 19:32:38 PDT 2009</td>\n",
       "      <td>NO_QUERY</td>\n",
       "      <td>Mothermoonpads</td>\n",
       "      <td>@ashenflower Well, that depends on what you're...</td>\n",
       "      <td>True</td>\n",
       "      <td>[ashenflow, well, depend, look, email, dm, lik...</td>\n",
       "    </tr>\n",
       "    <tr>\n",
       "      <th>1193128</th>\n",
       "      <td>4</td>\n",
       "      <td>1984188146</td>\n",
       "      <td>Sun May 31 14:36:47 PDT 2009</td>\n",
       "      <td>NO_QUERY</td>\n",
       "      <td>sgosztyl</td>\n",
       "      <td>Mass on the grass!</td>\n",
       "      <td>True</td>\n",
       "      <td>[mass, grass]</td>\n",
       "    </tr>\n",
       "    <tr>\n",
       "      <th>805686</th>\n",
       "      <td>4</td>\n",
       "      <td>1468699279</td>\n",
       "      <td>Tue Apr 07 03:14:16 PDT 2009</td>\n",
       "      <td>NO_QUERY</td>\n",
       "      <td>jadi</td>\n",
       "      <td>Helping a friend on a IDP system and learning ...</td>\n",
       "      <td>True</td>\n",
       "      <td>[help, friend, idp, system, learn]</td>\n",
       "    </tr>\n",
       "    <tr>\n",
       "      <th>286713</th>\n",
       "      <td>0</td>\n",
       "      <td>1993990769</td>\n",
       "      <td>Mon Jun 01 11:14:30 PDT 2009</td>\n",
       "      <td>NO_QUERY</td>\n",
       "      <td>Sellyx</td>\n",
       "      <td>@taylorswift13 @selenagomez @ddlovato Please p...</td>\n",
       "      <td>False</td>\n",
       "      <td>[taylorswift, selenagomez, ddlovato, plea, pra...</td>\n",
       "    </tr>\n",
       "    <tr>\n",
       "      <th>777573</th>\n",
       "      <td>0</td>\n",
       "      <td>2322454015</td>\n",
       "      <td>Wed Jun 24 22:38:45 PDT 2009</td>\n",
       "      <td>NO_QUERY</td>\n",
       "      <td>NerdiGirl</td>\n",
       "      <td>Just notified about my dog being in  violation...</td>\n",
       "      <td>False</td>\n",
       "      <td>[notifi, dog, violat, new, hoa, rule, limit, p...</td>\n",
       "    </tr>\n",
       "  </tbody>\n",
       "</table>\n",
       "</div>"
      ],
      "text/plain": [
       "         target          id                          date      flag  \\\n",
       "1562891       4  2186930923  Mon Jun 15 19:32:38 PDT 2009  NO_QUERY   \n",
       "1193128       4  1984188146  Sun May 31 14:36:47 PDT 2009  NO_QUERY   \n",
       "805686        4  1468699279  Tue Apr 07 03:14:16 PDT 2009  NO_QUERY   \n",
       "286713        0  1993990769  Mon Jun 01 11:14:30 PDT 2009  NO_QUERY   \n",
       "777573        0  2322454015  Wed Jun 24 22:38:45 PDT 2009  NO_QUERY   \n",
       "\n",
       "                   user                                               text  \\\n",
       "1562891  Mothermoonpads  @ashenflower Well, that depends on what you're...   \n",
       "1193128        sgosztyl                                Mass on the grass!    \n",
       "805686             jadi  Helping a friend on a IDP system and learning ...   \n",
       "286713           Sellyx  @taylorswift13 @selenagomez @ddlovato Please p...   \n",
       "777573        NerdiGirl  Just notified about my dog being in  violation...   \n",
       "\n",
       "         is_positive                                     text_processed  \n",
       "1562891         True  [ashenflow, well, depend, look, email, dm, lik...  \n",
       "1193128         True                                      [mass, grass]  \n",
       "805686          True                 [help, friend, idp, system, learn]  \n",
       "286713         False  [taylorswift, selenagomez, ddlovato, plea, pra...  \n",
       "777573         False  [notifi, dog, violat, new, hoa, rule, limit, p...  "
      ]
     },
     "execution_count": 72,
     "metadata": {},
     "output_type": "execute_result"
    }
   ],
   "source": [
    "df_tweets.head()"
   ]
  },
  {
   "cell_type": "markdown",
   "metadata": {},
   "source": [
    "### Creating Bag of Words\n",
    "\n",
    "The purpose of this step is to create a [bag of words](https://en.wikipedia.org/wiki/Bag-of-words_model) from the processed data. The bag of words contains all the unique words in your whole text body (a.k.a. *corpus*) with the number of occurrence of each word. It will allow you to understand which words are the most important features across the whole corpus.\n",
    "\n",
    "Also, you can imagine you will have a massive set of words. The less important words (i.e. those of very low number of occurrence) do not contribute much to the sentiment. Therefore, you only need to use the most important words to build your feature set in the next step. In our case, we will use the top 5,000 words with the highest frequency to build the features.\n",
    "\n",
    "In the cell below, combine all the words in `text_processed` and calculate the frequency distribution of all words. A convenient library to calculate the term frequency distribution is NLTK's `FreqDist` class ([documentation](https://www.nltk.org/api/nltk.html#module-nltk.probability)). Then select the top 5,000 words from the frequency distribution."
   ]
  },
  {
   "cell_type": "code",
   "execution_count": 73,
   "metadata": {},
   "outputs": [
    {
     "data": {
      "text/html": [
       "<div>\n",
       "<style scoped>\n",
       "    .dataframe tbody tr th:only-of-type {\n",
       "        vertical-align: middle;\n",
       "    }\n",
       "\n",
       "    .dataframe tbody tr th {\n",
       "        vertical-align: top;\n",
       "    }\n",
       "\n",
       "    .dataframe thead th {\n",
       "        text-align: right;\n",
       "    }\n",
       "</style>\n",
       "<table border=\"1\" class=\"dataframe\">\n",
       "  <thead>\n",
       "    <tr style=\"text-align: right;\">\n",
       "      <th></th>\n",
       "      <th>Word</th>\n",
       "      <th>Frequency</th>\n",
       "    </tr>\n",
       "  </thead>\n",
       "  <tbody>\n",
       "    <tr>\n",
       "      <th>0</th>\n",
       "      <td>go</td>\n",
       "      <td>1698</td>\n",
       "    </tr>\n",
       "    <tr>\n",
       "      <th>1</th>\n",
       "      <td>day</td>\n",
       "      <td>1362</td>\n",
       "    </tr>\n",
       "    <tr>\n",
       "      <th>2</th>\n",
       "      <td>get</td>\n",
       "      <td>1312</td>\n",
       "    </tr>\n",
       "    <tr>\n",
       "      <th>3</th>\n",
       "      <td>wa</td>\n",
       "      <td>1261</td>\n",
       "    </tr>\n",
       "    <tr>\n",
       "      <th>4</th>\n",
       "      <td>thi</td>\n",
       "      <td>1130</td>\n",
       "    </tr>\n",
       "  </tbody>\n",
       "</table>\n",
       "</div>"
      ],
      "text/plain": [
       "  Word  Frequency\n",
       "0   go       1698\n",
       "1  day       1362\n",
       "2  get       1312\n",
       "3   wa       1261\n",
       "4  thi       1130"
      ]
     },
     "execution_count": 73,
     "metadata": {},
     "output_type": "execute_result"
    }
   ],
   "source": [
    "fdist=FreqDist(token.lower() for tokenized_text in list(df_tweets['text_processed']) for token in tokenized_text)\n",
    "df_fdist=pd.DataFrame(sorted(fdist.items(), key=lambda x:x[1],reverse=True)[:5000],columns=['Word','Frequency'])\n",
    "df_fdist.head()"
   ]
  },
  {
   "cell_type": "markdown",
   "metadata": {},
   "source": [
    "### Building Features\n",
    "\n",
    "Now let's build the features. Using the top 5,000 words, create a 2-dimensional matrix to record whether each of those words is contained in each document (tweet). Then you also have an output column to indicate whether the sentiment in each tweet is positive. For example, assuming your bag of words has 5 items (`['one', 'two', 'three', 'four', 'five']`) out of 4 documents (`['A', 'B', 'C', 'D']`), your feature set is essentially:\n",
    "\n",
    "| Doc | one | two | three | four | five | is_positive |\n",
    "|---|---|---|---|---|---|---|\n",
    "| A | True | False | False | True | False | True |\n",
    "| B | False | False | False | True | True | False |\n",
    "| C | False | True | False | False | False | True |\n",
    "| D | True | False | False | False | True | False|\n",
    "\n",
    "However, because the `nltk.NaiveBayesClassifier.train` class we will use in the next step does not work with Pandas dataframe, the structure of your feature set should be converted to the Python list looking like below:\n",
    "\n",
    "```python\n",
    "[\n",
    "\t({\n",
    "\t\t'one': True,\n",
    "\t\t'two': False,\n",
    "\t\t'three': False,\n",
    "\t\t'four': True,\n",
    "\t\t'five': False\n",
    "\t}, True),\n",
    "\t({\n",
    "\t\t'one': False,\n",
    "\t\t'two': False,\n",
    "\t\t'three': False,\n",
    "\t\t'four': True,\n",
    "\t\t'five': True\n",
    "\t}, False),\n",
    "\t({\n",
    "\t\t'one': False,\n",
    "\t\t'two': True,\n",
    "\t\t'three': False,\n",
    "\t\t'four': False,\n",
    "\t\t'five': False\n",
    "\t}, True),\n",
    "\t({\n",
    "\t\t'one': True,\n",
    "\t\t'two': False,\n",
    "\t\t'three': False,\n",
    "\t\t'four': False,\n",
    "\t\t'five': True\n",
    "\t}, False)\n",
    "]\n",
    "```\n",
    "\n",
    "To help you in this step, watch the [following video](https://www.youtube.com/watch?v=-vVskDsHcVc) to learn how to build the feature set with Python and NLTK. The source code in this video can be found [here](https://pythonprogramming.net/words-as-features-nltk-tutorial/)."
   ]
  },
  {
   "cell_type": "markdown",
   "metadata": {},
   "source": [
    "[![Building Features](building-features.jpg)](https://www.youtube.com/watch?v=-vVskDsHcVc)"
   ]
  },
  {
   "cell_type": "code",
   "execution_count": 77,
   "metadata": {},
   "outputs": [
    {
     "data": {
      "text/html": [
       "<div>\n",
       "<style scoped>\n",
       "    .dataframe tbody tr th:only-of-type {\n",
       "        vertical-align: middle;\n",
       "    }\n",
       "\n",
       "    .dataframe tbody tr th {\n",
       "        vertical-align: top;\n",
       "    }\n",
       "\n",
       "    .dataframe thead th {\n",
       "        text-align: right;\n",
       "    }\n",
       "</style>\n",
       "<table border=\"1\" class=\"dataframe\">\n",
       "  <thead>\n",
       "    <tr style=\"text-align: right;\">\n",
       "      <th></th>\n",
       "      <th>go</th>\n",
       "      <th>day</th>\n",
       "      <th>get</th>\n",
       "      <th>wa</th>\n",
       "      <th>thi</th>\n",
       "      <th>good</th>\n",
       "      <th>like</th>\n",
       "      <th>work</th>\n",
       "      <th>love</th>\n",
       "      <th>quot</th>\n",
       "      <th>...</th>\n",
       "      <th>welp</th>\n",
       "      <th>amazingli</th>\n",
       "      <th>justad</th>\n",
       "      <th>jar</th>\n",
       "      <th>iraq</th>\n",
       "      <th>overpr</th>\n",
       "      <th>techno</th>\n",
       "      <th>ji</th>\n",
       "      <th>muah</th>\n",
       "      <th>is_positive</th>\n",
       "    </tr>\n",
       "  </thead>\n",
       "  <tbody>\n",
       "    <tr>\n",
       "      <th>0</th>\n",
       "      <td>False</td>\n",
       "      <td>False</td>\n",
       "      <td>False</td>\n",
       "      <td>False</td>\n",
       "      <td>False</td>\n",
       "      <td>False</td>\n",
       "      <td>True</td>\n",
       "      <td>False</td>\n",
       "      <td>False</td>\n",
       "      <td>False</td>\n",
       "      <td>...</td>\n",
       "      <td>False</td>\n",
       "      <td>False</td>\n",
       "      <td>False</td>\n",
       "      <td>False</td>\n",
       "      <td>False</td>\n",
       "      <td>False</td>\n",
       "      <td>False</td>\n",
       "      <td>False</td>\n",
       "      <td>False</td>\n",
       "      <td>True</td>\n",
       "    </tr>\n",
       "    <tr>\n",
       "      <th>1</th>\n",
       "      <td>False</td>\n",
       "      <td>False</td>\n",
       "      <td>False</td>\n",
       "      <td>False</td>\n",
       "      <td>False</td>\n",
       "      <td>False</td>\n",
       "      <td>False</td>\n",
       "      <td>False</td>\n",
       "      <td>False</td>\n",
       "      <td>False</td>\n",
       "      <td>...</td>\n",
       "      <td>False</td>\n",
       "      <td>False</td>\n",
       "      <td>False</td>\n",
       "      <td>False</td>\n",
       "      <td>False</td>\n",
       "      <td>False</td>\n",
       "      <td>False</td>\n",
       "      <td>False</td>\n",
       "      <td>False</td>\n",
       "      <td>True</td>\n",
       "    </tr>\n",
       "    <tr>\n",
       "      <th>2</th>\n",
       "      <td>False</td>\n",
       "      <td>False</td>\n",
       "      <td>False</td>\n",
       "      <td>False</td>\n",
       "      <td>False</td>\n",
       "      <td>False</td>\n",
       "      <td>False</td>\n",
       "      <td>False</td>\n",
       "      <td>False</td>\n",
       "      <td>False</td>\n",
       "      <td>...</td>\n",
       "      <td>False</td>\n",
       "      <td>False</td>\n",
       "      <td>False</td>\n",
       "      <td>False</td>\n",
       "      <td>False</td>\n",
       "      <td>False</td>\n",
       "      <td>False</td>\n",
       "      <td>False</td>\n",
       "      <td>False</td>\n",
       "      <td>True</td>\n",
       "    </tr>\n",
       "    <tr>\n",
       "      <th>3</th>\n",
       "      <td>False</td>\n",
       "      <td>False</td>\n",
       "      <td>False</td>\n",
       "      <td>False</td>\n",
       "      <td>False</td>\n",
       "      <td>False</td>\n",
       "      <td>False</td>\n",
       "      <td>False</td>\n",
       "      <td>False</td>\n",
       "      <td>False</td>\n",
       "      <td>...</td>\n",
       "      <td>False</td>\n",
       "      <td>False</td>\n",
       "      <td>False</td>\n",
       "      <td>False</td>\n",
       "      <td>False</td>\n",
       "      <td>False</td>\n",
       "      <td>False</td>\n",
       "      <td>False</td>\n",
       "      <td>False</td>\n",
       "      <td>False</td>\n",
       "    </tr>\n",
       "    <tr>\n",
       "      <th>4</th>\n",
       "      <td>False</td>\n",
       "      <td>False</td>\n",
       "      <td>False</td>\n",
       "      <td>False</td>\n",
       "      <td>False</td>\n",
       "      <td>False</td>\n",
       "      <td>True</td>\n",
       "      <td>False</td>\n",
       "      <td>False</td>\n",
       "      <td>False</td>\n",
       "      <td>...</td>\n",
       "      <td>False</td>\n",
       "      <td>False</td>\n",
       "      <td>False</td>\n",
       "      <td>False</td>\n",
       "      <td>False</td>\n",
       "      <td>False</td>\n",
       "      <td>False</td>\n",
       "      <td>False</td>\n",
       "      <td>False</td>\n",
       "      <td>False</td>\n",
       "    </tr>\n",
       "  </tbody>\n",
       "</table>\n",
       "<p>5 rows × 5001 columns</p>\n",
       "</div>"
      ],
      "text/plain": [
       "      go    day    get     wa    thi   good   like   work   love   quot  ...  \\\n",
       "0  False  False  False  False  False  False   True  False  False  False  ...   \n",
       "1  False  False  False  False  False  False  False  False  False  False  ...   \n",
       "2  False  False  False  False  False  False  False  False  False  False  ...   \n",
       "3  False  False  False  False  False  False  False  False  False  False  ...   \n",
       "4  False  False  False  False  False  False   True  False  False  False  ...   \n",
       "\n",
       "    welp  amazingli  justad    jar   iraq  overpr  techno     ji   muah  \\\n",
       "0  False      False   False  False  False   False   False  False  False   \n",
       "1  False      False   False  False  False   False   False  False  False   \n",
       "2  False      False   False  False  False   False   False  False  False   \n",
       "3  False      False   False  False  False   False   False  False  False   \n",
       "4  False      False   False  False  False   False   False  False  False   \n",
       "\n",
       "   is_positive  \n",
       "0         True  \n",
       "1         True  \n",
       "2         True  \n",
       "3        False  \n",
       "4        False  \n",
       "\n",
       "[5 rows x 5001 columns]"
      ]
     },
     "execution_count": 77,
     "metadata": {},
     "output_type": "execute_result"
    }
   ],
   "source": [
    "df_tweets['is_positive']=np.where(df_tweets['target']==4,True,False)\n",
    "\n",
    "word_features =[word[0] for word in sorted(fdist.items(), key=lambda x:x[1],reverse=True)[:5000]]\n",
    "\n",
    "def find_features(document,word_features):\n",
    "    words = set(document)\n",
    "    features = {}\n",
    "    for w in word_features:\n",
    "        features[w] = (w in words)\n",
    "\n",
    "    return features\n",
    "\n",
    "df_features=list(zip([find_features(feature,word_features) for feature in df_tweets['text_processed']],df_tweets['is_positive']))"
   ]
  },
  {
   "cell_type": "markdown",
   "metadata": {},
   "source": [
    "### Building and Traininng Naive Bayes Model\n",
    "\n",
    "In this step you will split your feature set into a training and a test set. Then you will create a Bayes classifier instance using `nltk.NaiveBayesClassifier.train` ([example](https://www.nltk.org/book/ch06.html)) to train with the training dataset.\n",
    "\n",
    "After training the model, call `classifier.show_most_informative_features()` to inspect the most important features. The output will look like:\n",
    "\n",
    "```\n",
    "Most Informative Features\n",
    "\t    snow = True            False : True   =     34.3 : 1.0\n",
    "\t  easter = True            False : True   =     26.2 : 1.0\n",
    "\t headach = True            False : True   =     20.9 : 1.0\n",
    "\t    argh = True            False : True   =     17.6 : 1.0\n",
    "\tunfortun = True            False : True   =     16.9 : 1.0\n",
    "\t    jona = True             True : False  =     16.2 : 1.0\n",
    "\t     ach = True            False : True   =     14.9 : 1.0\n",
    "\t     sad = True            False : True   =     13.0 : 1.0\n",
    "\t  parent = True            False : True   =     12.9 : 1.0\n",
    "\t  spring = True            False : True   =     12.7 : 1.0\n",
    "```\n",
    "\n",
    "The [following video](https://www.youtube.com/watch?v=rISOsUaTrO4) will help you complete this step. The source code in this video can be found [here](https://pythonprogramming.net/naive-bayes-classifier-nltk-tutorial/)."
   ]
  },
  {
   "cell_type": "markdown",
   "metadata": {},
   "source": [
    "[![Building and Training NB](nb-model-building.jpg)](https://www.youtube.com/watch?v=rISOsUaTrO4)"
   ]
  },
  {
   "cell_type": "code",
   "execution_count": 98,
   "metadata": {},
   "outputs": [],
   "source": [
    "training_set = df_features[:16000]\n",
    "testing_set = df_features[16000:]\n",
    "\n",
    "classifier = nltk.NaiveBayesClassifier.train(training_set)"
   ]
  },
  {
   "cell_type": "markdown",
   "metadata": {},
   "source": [
    "### Testing Naive Bayes Model\n",
    "\n",
    "Now we'll test our classifier with the test dataset. This is done by calling `nltk.classify.accuracy(classifier, test)`.\n",
    "\n",
    "As mentioned in one of the tutorial videos, a Naive Bayes model is considered OK if your accuracy score is over 0.6. If your accuracy score is over 0.7, you've done a great job!"
   ]
  },
  {
   "cell_type": "code",
   "execution_count": 99,
   "metadata": {},
   "outputs": [
    {
     "name": "stdout",
     "output_type": "stream",
     "text": [
      "Classifier accuracy percent: 72.075\n",
      "Most Informative Features\n",
      "                    fail = True            False : True   =     32.1 : 1.0\n",
      "                 congrat = True             True : False  =     29.8 : 1.0\n",
      "                  throat = True            False : True   =     21.8 : 1.0\n",
      "            followfriday = True             True : False  =     21.6 : 1.0\n",
      "                     bum = True            False : True   =     17.2 : 1.0\n",
      "                   proud = True             True : False  =     16.8 : 1.0\n",
      "                    hurt = True            False : True   =     16.3 : 1.0\n",
      "                   upset = True            False : True   =     14.0 : 1.0\n",
      "                     ugh = True            False : True   =     13.3 : 1.0\n",
      "                 terribl = True            False : True   =     13.1 : 1.0\n",
      "                     sad = True            False : True   =     12.8 : 1.0\n",
      "                frustrat = True            False : True   =     12.0 : 1.0\n",
      "                    ouch = True            False : True   =     12.0 : 1.0\n",
      "                    poor = True            False : True   =     12.0 : 1.0\n",
      "                  bummer = True            False : True   =     11.4 : 1.0\n"
     ]
    }
   ],
   "source": [
    "print(\"Classifier accuracy percent:\",(nltk.classify.accuracy(classifier, testing_set))*100)\n",
    "\n",
    "classifier.show_most_informative_features(15)"
   ]
  },
  {
   "cell_type": "markdown",
   "metadata": {},
   "source": [
    "## Bonus Question 1: Improve Model Performance\n",
    "\n",
    "If you are still not exhausted so far and want to dig deeper, try to improve your classifier performance. There are many aspects you can dig into, for example:\n",
    "\n",
    "* Improve stemming and lemmatization. Inspect your bag of words and the most important features. Are there any words you should furuther remove from analysis? You can append these words to further remove to the stop words list.\n",
    "\n",
    "* Remember we only used the top 5,000 features to build model? Try using different numbers of top features. The bottom line is to use as few features as you can without compromising your model performance. The fewer features you select into your model, the faster your model is trained. Then you can use a larger sample size to improve your model accuracy score."
   ]
  },
  {
   "cell_type": "code",
   "execution_count": null,
   "metadata": {
    "scrolled": false
   },
   "outputs": [],
   "source": []
  },
  {
   "cell_type": "markdown",
   "metadata": {},
   "source": [
    "## Bonus Question 2: Machine Learning Pipeline\n",
    "\n",
    "In a new Jupyter Notebook, combine all your codes into a function (or a class). Your new function will execute the complete machine learning pipeline job by receiving the dataset location and output the classifier. This will allow you to use your function to predict the sentiment of any tweet in real time. "
   ]
  },
  {
   "cell_type": "code",
   "execution_count": null,
   "metadata": {},
   "outputs": [],
   "source": [
    "# your code here"
   ]
  },
  {
   "cell_type": "markdown",
   "metadata": {},
   "source": [
    "## Bonus Question 3: Apache Spark\n",
    "\n",
    "If you have completed the Apache Spark advanced topic lab, what you can do is to migrate your pipeline from local to a Databricks Notebook. Share your notebook with your instructor and classmates to show off your achievements!"
   ]
  },
  {
   "cell_type": "code",
   "execution_count": null,
   "metadata": {},
   "outputs": [],
   "source": [
    "# your code here"
   ]
  }
 ],
 "metadata": {
  "kernelspec": {
   "display_name": "Python 3 (ipykernel)",
   "language": "python",
   "name": "python3"
  },
  "language_info": {
   "codemirror_mode": {
    "name": "ipython",
    "version": 3
   },
   "file_extension": ".py",
   "mimetype": "text/x-python",
   "name": "python",
   "nbconvert_exporter": "python",
   "pygments_lexer": "ipython3",
   "version": "3.9.13"
  }
 },
 "nbformat": 4,
 "nbformat_minor": 2
}
